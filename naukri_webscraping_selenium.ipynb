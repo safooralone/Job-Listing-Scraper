{
 "cells": [
  {
   "cell_type": "code",
   "execution_count": 1,
   "id": "86120e7f",
   "metadata": {},
   "outputs": [
    {
     "name": "stdout",
     "output_type": "stream",
     "text": [
      "Python Developer Trainee - 05 Innovatexiq Solutions 3 months duration\n",
      "Python Developer @ Infosys- Pan India Infosys 4-9 Yrs\n",
      "Python Developer Appzlogic 0-3 Yrs\n",
      "Python Developer Metalman Auto 3-6 Yrs\n",
      "Python Software Developer - Pan India Infosys 8-13 Yrs\n",
      "Python Software Developer Carelon global solution 3-5 Yrs\n",
      "Python Software Developer - Pan India Infosys 9-14 Yrs\n",
      "Python Software Developer - PAN INDIA Infosys 5-10 Yrs\n",
      "Python Software Developer Comvision 6-10 Yrs\n",
      "Python Developer-Pan India(A) Infosys 5-9 Yrs\n",
      "Python Developer Cognizant 6-10 Yrs\n",
      "Python developer @Pan India Infosys 5-9 Yrs\n",
      "Python Software Developer Carelon global solution 5-8 Yrs\n",
      "Software Consultant (Python Developer) Energytech Global 5-10 Yrs\n",
      "Python Software Developer - Pan India Infosys 9-10 Yrs\n",
      "Python Software Developer TOP 500 ENGINEERING COMPANY 7-10 Yrs\n",
      "Python Software Developer Accion Labs 5-10 Yrs\n",
      "Python Developer Capgemini 5-10 Yrs\n",
      "Senior Software Developer - Python , Data Engineering S&P Global Market Intelligence 3-8 Yrs\n",
      "Senior Python Developer Vlink 3-8 Yrs\n"
     ]
    }
   ],
   "source": [
    "from selenium import webdriver\n",
    "from selenium.webdriver.common.by import By\n",
    "import time\n",
    "driver=webdriver.Chrome()\n",
    "url=\"https:/www.naukri.com/python-development-jobs-{}?k=python+development\"\n",
    "data=[]\n",
    "for page in range(1,6):\n",
    "    driver.get(url.format(page))\n",
    "    time.sleep(3)\n",
    "    naukri=driver.find_elements(By.CSS_SELECTOR,\"div.cust-job-tuple\")\n",
    "    for x in naukri:\n",
    "        title=x.find_element(By.CSS_SELECTOR,\"a.title\").text\n",
    "        company_name=x.find_element(By.CSS_SELECTOR,\"div>span>a\").text\n",
    "        experience=x.find_element(By.CSS_SELECTOR,\"span>span>span\").text\n",
    "        print(title,company_name,experience)\n",
    "    "
   ]
  }
 ],
 "metadata": {
  "kernelspec": {
   "display_name": "Python 3",
   "language": "python",
   "name": "python3"
  },
  "language_info": {
   "codemirror_mode": {
    "name": "ipython",
    "version": 3
   },
   "file_extension": ".py",
   "mimetype": "text/x-python",
   "name": "python",
   "nbconvert_exporter": "python",
   "pygments_lexer": "ipython3",
   "version": "3.11.9"
  }
 },
 "nbformat": 4,
 "nbformat_minor": 5
}
